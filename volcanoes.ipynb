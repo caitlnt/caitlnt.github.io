{
 "cells": [
  {
   "cell_type": "code",
   "execution_count": 112,
   "metadata": {
    "collapsed": true
   },
   "outputs": [],
   "source": [
    "#Project 02 - Volcanoes\n",
    "#Brett Brandom, Joshua Bui, Jonathan Orozco, Caitlyn Ta\n",
    "#Web Scraping for Volcano images and twitter feeds"
   ]
  },
  {
   "cell_type": "code",
   "execution_count": 26,
   "metadata": {
    "collapsed": true
   },
   "outputs": [],
   "source": [
    "# import libraries and dependencies\n",
    "\n",
    "import time\n",
    "from splinter import Browser\n",
    "from bs4 import BeautifulSoup as bs\n",
    "import requests\n",
    "import pandas as pd\n",
    "import numpy as np\n",
    "from selenium import webdriver"
   ]
  },
  {
   "cell_type": "markdown",
   "metadata": {},
   "source": [
    "# Volcano Images"
   ]
  },
  {
   "cell_type": "code",
   "execution_count": 27,
   "metadata": {
    "collapsed": true
   },
   "outputs": [],
   "source": [
    "# Smithsonian Institution URL to Scrape for Volcano Images\n",
    "\n",
    "executable_path = {'executable_path': 'C:\\Chrome\\chromedriver'}\n",
    "browser = Browser('chrome', **executable_path, headless=False)\n",
    "vol_url = 'http://volcano.si.edu/'\n",
    "browser.visit(vol_url)"
   ]
  },
  {
   "cell_type": "code",
   "execution_count": 28,
   "metadata": {
    "collapsed": true
   },
   "outputs": [],
   "source": [
    "# Retrieve images\n",
    "\n",
    "html = browser.html\n",
    "soup = bs(html, 'html.parser')\n"
   ]
  },
  {
   "cell_type": "code",
   "execution_count": 29,
   "metadata": {},
   "outputs": [
    {
     "name": "stdout",
     "output_type": "stream",
     "text": [
      "['http://volcano.si.edu/photos/full/027023.jpg', 'http://volcano.si.edu/photos/full/101087.jpg', 'http://volcano.si.edu/photos/full/068072.jpg', 'http://volcano.si.edu/photos/full/101071.jpg', 'http://volcano.si.edu/photos/full/011046.jpg', 'http://volcano.si.edu/photos/full/101065.jpg', 'http://volcano.si.edu/photos/full/010040.jpg', 'http://volcano.si.edu/photos/full/012070.jpg', 'http://volcano.si.edu/photos/full/104056.jpg']\n"
     ]
    }
   ],
   "source": [
    "# Find the div that will allow you to retrieve the images from the home page of Smithsonian\n",
    "# loop through to get all the images and append to a list\n",
    "\n",
    "vol_img = []\n",
    "\n",
    "for link in soup.find_all(alt=\"Volcano photo slideshow\"):\n",
    "    vol_img.append(f'http://volcano.si.edu{link[\"src\"]}')\n",
    "\n",
    "print(vol_img)\n"
   ]
  },
  {
   "cell_type": "code",
   "execution_count": 30,
   "metadata": {},
   "outputs": [
    {
     "name": "stdout",
     "output_type": "stream",
     "text": [
      "http://volcano.si.edu/photos/full/027023.jpg\n"
     ]
    }
   ],
   "source": [
    "# To print one image, you must use index (there's 9, [0], [1], [2], [3], [4], [5], [6], [7], [8])\n",
    "print(vol_img[0])"
   ]
  },
  {
   "cell_type": "code",
   "execution_count": null,
   "metadata": {
    "collapsed": true
   },
   "outputs": [],
   "source": []
  },
  {
   "cell_type": "code",
   "execution_count": null,
   "metadata": {
    "collapsed": true
   },
   "outputs": [],
   "source": []
  },
  {
   "cell_type": "markdown",
   "metadata": {
    "collapsed": true
   },
   "source": [
    "# Volcano Twitter Feeds"
   ]
  },
  {
   "cell_type": "markdown",
   "metadata": {
    "collapsed": true
   },
   "source": [
    "\n"
   ]
  },
  {
   "cell_type": "code",
   "execution_count": 31,
   "metadata": {
    "collapsed": true
   },
   "outputs": [],
   "source": [
    "# Retrieve latest twitter feeds about volcanoes from USGS Volcanoes twitter site"
   ]
  },
  {
   "cell_type": "code",
   "execution_count": 32,
   "metadata": {},
   "outputs": [],
   "source": [
    "# USGS Volcanoes\n",
    "usgsvolcano_url = 'https://twitter.com/usgsvolcanoes?lang=en'"
   ]
  },
  {
   "cell_type": "code",
   "execution_count": 35,
   "metadata": {},
   "outputs": [],
   "source": [
    "# Retrieve data from USGS Volcanoes\n",
    "html = requests.get(usgsvolcano_url)\n",
    "\n",
    "#Create BeautifulSoup object; parse with 'html.parser'\n",
    "soup = bs(html.text, 'html.parser')"
   ]
  },
  {
   "cell_type": "code",
   "execution_count": 37,
   "metadata": {},
   "outputs": [],
   "source": [
    "# Find the div that will allow you to retrieve USGS Volcanoes tweets\n",
    "usgs_vol_tweet = soup.find_all('p', class_='TweetTextSize TweetTextSize--normal js-tweet-text tweet-text')[0].text"
   ]
  },
  {
   "cell_type": "code",
   "execution_count": 38,
   "metadata": {},
   "outputs": [
    {
     "name": "stdout",
     "output_type": "stream",
     "text": [
      "Cascade Range volcanoes at background levels of activity. Sediment Data-Collection Techniques class in Castle Rock (WA) this week - students learn from the pros. http://bit.ly/2oYakvI pic.twitter.com/PVPG9YEOBh\n"
     ]
    }
   ],
   "source": [
    "# Print the results to verify it is correct\n",
    "print(usgs_vol_tweet)"
   ]
  },
  {
   "cell_type": "code",
   "execution_count": null,
   "metadata": {
    "collapsed": true
   },
   "outputs": [],
   "source": []
  },
  {
   "cell_type": "code",
   "execution_count": null,
   "metadata": {
    "collapsed": true
   },
   "outputs": [],
   "source": []
  }
 ],
 "metadata": {
  "kernelspec": {
   "display_name": "Python 3",
   "language": "python",
   "name": "python3"
  },
  "language_info": {
   "codemirror_mode": {
    "name": "ipython",
    "version": 3
   },
   "file_extension": ".py",
   "mimetype": "text/x-python",
   "name": "python",
   "nbconvert_exporter": "python",
   "pygments_lexer": "ipython3",
   "version": "3.6.1"
  }
 },
 "nbformat": 4,
 "nbformat_minor": 2
}
